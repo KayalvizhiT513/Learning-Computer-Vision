{
  "nbformat": 4,
  "nbformat_minor": 0,
  "metadata": {
    "colab": {
      "provenance": [],
      "authorship_tag": "ABX9TyOaWmWG4+DeZFIotHeGgZaH",
      "include_colab_link": true
    },
    "kernelspec": {
      "name": "python3",
      "display_name": "Python 3"
    },
    "language_info": {
      "name": "python"
    }
  },
  "cells": [
    {
      "cell_type": "markdown",
      "metadata": {
        "id": "view-in-github",
        "colab_type": "text"
      },
      "source": [
        "<a href=\"https://colab.research.google.com/github/KayalvizhiT513/Learning-Computer-Vision/blob/main/Transformation_Euler%2C_Quad%2C_Rotvec.ipynb\" target=\"_parent\"><img src=\"https://colab.research.google.com/assets/colab-badge.svg\" alt=\"Open In Colab\"/></a>"
      ]
    },
    {
      "cell_type": "code",
      "execution_count": 1,
      "metadata": {
        "id": "VNKrZ3uoAYa9"
      },
      "outputs": [],
      "source": [
        "from scipy.spatial.transform import Rotation as R\n",
        "import numpy as np"
      ]
    },
    {
      "cell_type": "code",
      "source": [
        "# Convert from Quaternion to Euler\n",
        "def convert_from_quat_to_euler(quat):\n",
        "    r = R.from_quat(quat)\n",
        "    euler = r.as_euler('xyz', degrees=True)\n",
        "    return euler\n",
        "\n",
        "# Convert from Axis angle to Euler\n",
        "def convert_from_axis_angle_to_euler(axis_angle):\n",
        "    r = R.from_rotvec(axis_angle)\n",
        "    euler = r.as_euler('xyz', degrees=True)\n",
        "    return euler\n",
        "\n",
        "# Convert from Quaternion to Axis angle\n",
        "def convert_from_quat_to_axis_angle(quat):\n",
        "    r = R.from_quat(quat)\n",
        "    axis_angle = r.as_rotvec()\n",
        "    return axis_angle\n",
        "\n",
        "# Convert from Axis angle to Quaternion\n",
        "def convert_from_axis_angle_to_quat(axis_angle):\n",
        "    r = R.from_rotvec(axis_angle)\n",
        "    quat = r.as_quat()\n",
        "    return quat\n",
        "\n",
        "# Convert from Euler to Quaternion\n",
        "def convert_from_euler_to_quat(euler):\n",
        "    r = R.from_euler('xyz', euler, degrees=True)\n",
        "    quat = r.as_quat()\n",
        "    return quat\n",
        "\n",
        "# Convert from Euler to Angle axis\n",
        "def convert_from_euler_to_axis_angle(euler):\n",
        "    r = R.from_euler('xyz', euler, degrees=True)\n",
        "    axis_angle = r.as_rotvec()\n",
        "    return axis_angle"
      ],
      "metadata": {
        "id": "x7Ka3IV22FGS"
      },
      "execution_count": 2,
      "outputs": []
    },
    {
      "cell_type": "markdown",
      "source": [
        "## Euler - Quaternion"
      ],
      "metadata": {
        "id": "g7g58GEb9GaW"
      }
    },
    {
      "cell_type": "code",
      "source": [
        "# Initialising Euler angles\n",
        "euler = [0, np.pi/4, np.pi/2]\n",
        "print(\"Initial Euler angle: \", euler)\n",
        "\n",
        "# Convert from Euler to Quaternion\n",
        "quat = convert_from_euler_to_quat(euler)\n",
        "print(\"Quaternion: \", quat)\n",
        "\n",
        "# Convert from Quaternion to Euler\n",
        "euler = convert_from_quat_to_euler(quat)\n",
        "print(\"Euler: \", euler)"
      ],
      "metadata": {
        "colab": {
          "base_uri": "https://localhost:8080/"
        },
        "id": "dzHc_OJM7bz2",
        "outputId": "bdcfbee7-afb2-43b7-9cad-a5c5b9ec0bb9"
      },
      "execution_count": 3,
      "outputs": [
        {
          "output_type": "stream",
          "name": "stdout",
          "text": [
            "Initial Euler angle:  [0, 0.7853981633974483, 1.5707963267948966]\n",
            "Quaternion:  [-9.39479918e-05  6.85319436e-03  1.37070326e-02  9.99882564e-01]\n",
            "Euler:  [-9.93923338e-17  7.85398163e-01  1.57079633e+00]\n"
          ]
        }
      ]
    },
    {
      "cell_type": "markdown",
      "source": [
        "## Quaternion - Axis angle"
      ],
      "metadata": {
        "id": "4GIxwu_I9Jbm"
      }
    },
    {
      "cell_type": "code",
      "source": [
        "print(\"Initial Quaternion: \", quat)\n",
        "\n",
        "# Convert from Quaternion to Axis angle\n",
        "axis_angle = convert_from_quat_to_axis_angle(quat)\n",
        "print(\"Axis angle: \", axis_angle)\n",
        "\n",
        "# Convert from Axis angle to Quaternion\n",
        "quat = convert_from_axis_angle_to_quat(axis_angle)\n",
        "print(\"Quaternion: \", quat)"
      ],
      "metadata": {
        "colab": {
          "base_uri": "https://localhost:8080/"
        },
        "id": "b1mCwTSz7sYQ",
        "outputId": "c23c94e4-fe9e-4ece-976e-da2d2824c9a9"
      },
      "execution_count": 4,
      "outputs": [
        {
          "output_type": "stream",
          "name": "stdout",
          "text": [
            "Initial Quaternion:  [-9.39479918e-05  6.85319436e-03  1.37070326e-02  9.99882564e-01]\n",
            "Axis angle:  [-0.0001879   0.01370693  0.02741514]\n",
            "Quaternion:  [-9.39479918e-05  6.85319436e-03  1.37070326e-02  9.99882564e-01]\n"
          ]
        }
      ]
    },
    {
      "cell_type": "markdown",
      "source": [
        "## Axis angle - Euler"
      ],
      "metadata": {
        "id": "au1rDUGq9OVB"
      }
    },
    {
      "cell_type": "code",
      "source": [
        "print(\"Initial Axis angle: \", axis_angle)\n",
        "\n",
        "# Convert from Axis angle to Euler\n",
        "euler = convert_from_axis_angle_to_euler(axis_angle)\n",
        "print(\"Euler: \", euler)\n",
        "\n",
        "# Convert from Euler to Axis angle\n",
        "axis_angle = convert_from_euler_to_axis_angle(euler)\n",
        "print(\"Axis angle: \", axis_angle)"
      ],
      "metadata": {
        "colab": {
          "base_uri": "https://localhost:8080/"
        },
        "id": "sBie-tIp7_MM",
        "outputId": "0b75c3cf-0939-4ae0-f29f-44b51ee31e3c"
      },
      "execution_count": 5,
      "outputs": [
        {
          "output_type": "stream",
          "name": "stdout",
          "text": [
            "Initial Axis angle:  [-0.0001879   0.01370693  0.02741514]\n",
            "Euler:  [-9.93923338e-17  7.85398163e-01  1.57079633e+00]\n",
            "Axis angle:  [-0.0001879   0.01370693  0.02741514]\n"
          ]
        }
      ]
    },
    {
      "cell_type": "code",
      "source": [],
      "metadata": {
        "id": "mqck11V88rg-"
      },
      "execution_count": 5,
      "outputs": []
    }
  ]
}
