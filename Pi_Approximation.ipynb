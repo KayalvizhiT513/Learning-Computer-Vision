{
  "nbformat": 4,
  "nbformat_minor": 0,
  "metadata": {
    "colab": {
      "provenance": [],
      "authorship_tag": "ABX9TyMVfiCGhRnMc0JQwW0k4aBI",
      "include_colab_link": true
    },
    "kernelspec": {
      "name": "python3",
      "display_name": "Python 3"
    },
    "language_info": {
      "name": "python"
    }
  },
  "cells": [
    {
      "cell_type": "markdown",
      "metadata": {
        "id": "view-in-github",
        "colab_type": "text"
      },
      "source": [
        "<a href=\"https://colab.research.google.com/github/KayalvizhiT513/Learning-Computer-Vision/blob/main/Pi_Approximation.ipynb\" target=\"_parent\"><img src=\"https://colab.research.google.com/assets/colab-badge.svg\" alt=\"Open In Colab\"/></a>"
      ]
    },
    {
      "cell_type": "code",
      "source": [
        "import numpy as np\n",
        "from sympy import *"
      ],
      "metadata": {
        "id": "bZygEExuvLCU"
      },
      "execution_count": null,
      "outputs": []
    },
    {
      "cell_type": "code",
      "source": [
        "init_printing(use_unicode=False)"
      ],
      "metadata": {
        "id": "zCDsxVq1UNyz"
      },
      "execution_count": 81,
      "outputs": []
    },
    {
      "cell_type": "code",
      "source": [
        "x = Symbol('x')"
      ],
      "metadata": {
        "id": "NM1vytFLVQ7C"
      },
      "execution_count": 82,
      "outputs": []
    },
    {
      "cell_type": "code",
      "source": [
        "# Define equation of circle\n",
        "y = (1 - x**2)**(1/2)"
      ],
      "metadata": {
        "id": "5OP6qGD6VSu_"
      },
      "execution_count": 83,
      "outputs": []
    },
    {
      "cell_type": "code",
      "source": [
        "# varying x from 1 to 0 in steps to cover the first quadrant\n",
        "x_vals = np.linspace(1, 0, 1000)"
      ],
      "metadata": {
        "id": "beshyxsqVUYx"
      },
      "execution_count": 84,
      "outputs": []
    },
    {
      "cell_type": "code",
      "source": [
        "# calculating y value from the circle equation\n",
        "y_vals = np.array([y.subs(x, x_val).evalf() for x_val in x_vals], dtype=float)"
      ],
      "metadata": {
        "id": "09YEAZiNVgtE"
      },
      "execution_count": 85,
      "outputs": []
    },
    {
      "cell_type": "code",
      "source": [
        "sum = 0\n",
        "pts = []\n",
        "for x, y in zip(x_vals, y_vals):\n",
        "    pts.append((x, y))"
      ],
      "metadata": {
        "id": "fhb4io7DVjRj"
      },
      "execution_count": 86,
      "outputs": []
    },
    {
      "cell_type": "code",
      "source": [
        "circum = 0\n",
        "# Calculating length of each chord or each edge of the polygon\n",
        "for x, y in zip(pts, pts[1:]):\n",
        "    circum += np.linalg.norm(np.array(x) - np.array(y))"
      ],
      "metadata": {
        "id": "vKb5-UZSk6lS"
      },
      "execution_count": 87,
      "outputs": []
    },
    {
      "cell_type": "code",
      "source": [
        "print(\"Approximated pi:\", 2*circum)"
      ],
      "metadata": {
        "colab": {
          "base_uri": "https://localhost:8080/"
        },
        "id": "0l9UB3SNlS9m",
        "outputId": "14aac221-17af-4cbc-e455-dc0116013a2e"
      },
      "execution_count": 90,
      "outputs": [
        {
          "output_type": "stream",
          "name": "stdout",
          "text": [
            "Approximated pi: 3.141583342386388\n"
          ]
        }
      ]
    }
  ]
}